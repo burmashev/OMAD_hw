{
 "cells": [
  {
   "cell_type": "code",
   "execution_count": 1,
   "metadata": {
    "colab": {
     "base_uri": "https://localhost:8080/",
     "height": 424
    },
    "id": "k8kGKCQHYBED",
    "outputId": "23258939-8012-496a-a7f1-43782218257f"
   },
   "outputs": [],
   "source": [
    "import numpy as np\n",
    "import pandas as pd"
   ]
  },
  {
   "cell_type": "code",
   "execution_count": 2,
   "metadata": {},
   "outputs": [
    {
     "data": {
      "text/html": [
       "<div>\n",
       "<style scoped>\n",
       "    .dataframe tbody tr th:only-of-type {\n",
       "        vertical-align: middle;\n",
       "    }\n",
       "\n",
       "    .dataframe tbody tr th {\n",
       "        vertical-align: top;\n",
       "    }\n",
       "\n",
       "    .dataframe thead th {\n",
       "        text-align: right;\n",
       "    }\n",
       "</style>\n",
       "<table border=\"1\" class=\"dataframe\">\n",
       "  <thead>\n",
       "    <tr style=\"text-align: right;\">\n",
       "      <th></th>\n",
       "      <th>Unnamed: 0</th>\n",
       "      <th>carat</th>\n",
       "      <th>cut</th>\n",
       "      <th>color</th>\n",
       "      <th>clarity</th>\n",
       "      <th>depth</th>\n",
       "      <th>table</th>\n",
       "      <th>price</th>\n",
       "      <th>x</th>\n",
       "      <th>y</th>\n",
       "      <th>z</th>\n",
       "    </tr>\n",
       "  </thead>\n",
       "  <tbody>\n",
       "    <tr>\n",
       "      <th>0</th>\n",
       "      <td>0</td>\n",
       "      <td>0.23</td>\n",
       "      <td>Ideal</td>\n",
       "      <td>E</td>\n",
       "      <td>SI2</td>\n",
       "      <td>61.5</td>\n",
       "      <td>55.0</td>\n",
       "      <td>326</td>\n",
       "      <td>3.95</td>\n",
       "      <td>3.98</td>\n",
       "      <td>2.43</td>\n",
       "    </tr>\n",
       "    <tr>\n",
       "      <th>1</th>\n",
       "      <td>1</td>\n",
       "      <td>0.21</td>\n",
       "      <td>Premium</td>\n",
       "      <td>E</td>\n",
       "      <td>SI1</td>\n",
       "      <td>59.8</td>\n",
       "      <td>61.0</td>\n",
       "      <td>326</td>\n",
       "      <td>3.89</td>\n",
       "      <td>3.84</td>\n",
       "      <td>2.31</td>\n",
       "    </tr>\n",
       "    <tr>\n",
       "      <th>2</th>\n",
       "      <td>2</td>\n",
       "      <td>0.23</td>\n",
       "      <td>Good</td>\n",
       "      <td>E</td>\n",
       "      <td>VS1</td>\n",
       "      <td>56.9</td>\n",
       "      <td>65.0</td>\n",
       "      <td>327</td>\n",
       "      <td>4.05</td>\n",
       "      <td>4.07</td>\n",
       "      <td>2.31</td>\n",
       "    </tr>\n",
       "    <tr>\n",
       "      <th>3</th>\n",
       "      <td>3</td>\n",
       "      <td>0.29</td>\n",
       "      <td>Premium</td>\n",
       "      <td>I</td>\n",
       "      <td>VS2</td>\n",
       "      <td>62.4</td>\n",
       "      <td>58.0</td>\n",
       "      <td>334</td>\n",
       "      <td>4.20</td>\n",
       "      <td>4.23</td>\n",
       "      <td>2.63</td>\n",
       "    </tr>\n",
       "    <tr>\n",
       "      <th>4</th>\n",
       "      <td>4</td>\n",
       "      <td>0.31</td>\n",
       "      <td>Good</td>\n",
       "      <td>J</td>\n",
       "      <td>SI2</td>\n",
       "      <td>63.3</td>\n",
       "      <td>58.0</td>\n",
       "      <td>335</td>\n",
       "      <td>4.34</td>\n",
       "      <td>4.35</td>\n",
       "      <td>2.75</td>\n",
       "    </tr>\n",
       "    <tr>\n",
       "      <th>...</th>\n",
       "      <td>...</td>\n",
       "      <td>...</td>\n",
       "      <td>...</td>\n",
       "      <td>...</td>\n",
       "      <td>...</td>\n",
       "      <td>...</td>\n",
       "      <td>...</td>\n",
       "      <td>...</td>\n",
       "      <td>...</td>\n",
       "      <td>...</td>\n",
       "      <td>...</td>\n",
       "    </tr>\n",
       "    <tr>\n",
       "      <th>995</th>\n",
       "      <td>995</td>\n",
       "      <td>0.23</td>\n",
       "      <td>Very Good</td>\n",
       "      <td>F</td>\n",
       "      <td>VS2</td>\n",
       "      <td>61.0</td>\n",
       "      <td>59.0</td>\n",
       "      <td>402</td>\n",
       "      <td>3.95</td>\n",
       "      <td>3.99</td>\n",
       "      <td>2.42</td>\n",
       "    </tr>\n",
       "    <tr>\n",
       "      <th>996</th>\n",
       "      <td>996</td>\n",
       "      <td>0.23</td>\n",
       "      <td>Very Good</td>\n",
       "      <td>F</td>\n",
       "      <td>VS2</td>\n",
       "      <td>59.1</td>\n",
       "      <td>59.0</td>\n",
       "      <td>402</td>\n",
       "      <td>4.02</td>\n",
       "      <td>4.07</td>\n",
       "      <td>2.39</td>\n",
       "    </tr>\n",
       "    <tr>\n",
       "      <th>997</th>\n",
       "      <td>997</td>\n",
       "      <td>0.23</td>\n",
       "      <td>Very Good</td>\n",
       "      <td>F</td>\n",
       "      <td>VS2</td>\n",
       "      <td>61.6</td>\n",
       "      <td>59.0</td>\n",
       "      <td>402</td>\n",
       "      <td>3.96</td>\n",
       "      <td>4.00</td>\n",
       "      <td>2.45</td>\n",
       "    </tr>\n",
       "    <tr>\n",
       "      <th>998</th>\n",
       "      <td>998</td>\n",
       "      <td>0.23</td>\n",
       "      <td>Very Good</td>\n",
       "      <td>F</td>\n",
       "      <td>VS2</td>\n",
       "      <td>59.4</td>\n",
       "      <td>57.0</td>\n",
       "      <td>402</td>\n",
       "      <td>4.06</td>\n",
       "      <td>4.09</td>\n",
       "      <td>2.42</td>\n",
       "    </tr>\n",
       "    <tr>\n",
       "      <th>999</th>\n",
       "      <td>999</td>\n",
       "      <td>0.23</td>\n",
       "      <td>Very Good</td>\n",
       "      <td>F</td>\n",
       "      <td>VS1</td>\n",
       "      <td>61.9</td>\n",
       "      <td>58.0</td>\n",
       "      <td>402</td>\n",
       "      <td>3.90</td>\n",
       "      <td>4.02</td>\n",
       "      <td>2.45</td>\n",
       "    </tr>\n",
       "  </tbody>\n",
       "</table>\n",
       "<p>1000 rows × 11 columns</p>\n",
       "</div>"
      ],
      "text/plain": [
       "     Unnamed: 0  carat        cut color clarity  depth  table  price     x  \\\n",
       "0             0   0.23      Ideal     E     SI2   61.5   55.0    326  3.95   \n",
       "1             1   0.21    Premium     E     SI1   59.8   61.0    326  3.89   \n",
       "2             2   0.23       Good     E     VS1   56.9   65.0    327  4.05   \n",
       "3             3   0.29    Premium     I     VS2   62.4   58.0    334  4.20   \n",
       "4             4   0.31       Good     J     SI2   63.3   58.0    335  4.34   \n",
       "..          ...    ...        ...   ...     ...    ...    ...    ...   ...   \n",
       "995         995   0.23  Very Good     F     VS2   61.0   59.0    402  3.95   \n",
       "996         996   0.23  Very Good     F     VS2   59.1   59.0    402  4.02   \n",
       "997         997   0.23  Very Good     F     VS2   61.6   59.0    402  3.96   \n",
       "998         998   0.23  Very Good     F     VS2   59.4   57.0    402  4.06   \n",
       "999         999   0.23  Very Good     F     VS1   61.9   58.0    402  3.90   \n",
       "\n",
       "        y     z  \n",
       "0    3.98  2.43  \n",
       "1    3.84  2.31  \n",
       "2    4.07  2.31  \n",
       "3    4.23  2.63  \n",
       "4    4.35  2.75  \n",
       "..    ...   ...  \n",
       "995  3.99  2.42  \n",
       "996  4.07  2.39  \n",
       "997  4.00  2.45  \n",
       "998  4.09  2.42  \n",
       "999  4.02  2.45  \n",
       "\n",
       "[1000 rows x 11 columns]"
      ]
     },
     "execution_count": 2,
     "metadata": {},
     "output_type": "execute_result"
    }
   ],
   "source": [
    "data = pd.read_csv('diamonds_1000.csv') # https://www.kaggle.com/shivam2503/diamonds\n",
    "data"
   ]
  },
  {
   "cell_type": "code",
   "execution_count": 3,
   "metadata": {
    "id": "Bq1goAsKZX97"
   },
   "outputs": [],
   "source": [
    "import numpy as np\n",
    "import pandas as pd"
   ]
  },
  {
   "cell_type": "code",
   "execution_count": 4,
   "metadata": {
    "id": "2RW8cq7mYOXx"
   },
   "outputs": [],
   "source": [
    "numeric = ['price', 'carat', 'x', 'y', 'z']"
   ]
  },
  {
   "cell_type": "code",
   "execution_count": 6,
   "metadata": {
    "id": "F4Ry6SVOZFEZ"
   },
   "outputs": [],
   "source": [
    "data1 = data[data['cut'] == 'Premium'][numeric]\n",
    "#data1 = data1.sample(1000)"
   ]
  },
  {
   "cell_type": "code",
   "execution_count": 7,
   "metadata": {
    "colab": {
     "base_uri": "https://localhost:8080/",
     "height": 424
    },
    "id": "t8icCgjEZfhj",
    "outputId": "8fdeaa2e-7afa-4967-bcf7-094791352e17"
   },
   "outputs": [
    {
     "data": {
      "text/html": [
       "<div>\n",
       "<style scoped>\n",
       "    .dataframe tbody tr th:only-of-type {\n",
       "        vertical-align: middle;\n",
       "    }\n",
       "\n",
       "    .dataframe tbody tr th {\n",
       "        vertical-align: top;\n",
       "    }\n",
       "\n",
       "    .dataframe thead th {\n",
       "        text-align: right;\n",
       "    }\n",
       "</style>\n",
       "<table border=\"1\" class=\"dataframe\">\n",
       "  <thead>\n",
       "    <tr style=\"text-align: right;\">\n",
       "      <th></th>\n",
       "      <th>price</th>\n",
       "      <th>carat</th>\n",
       "      <th>x</th>\n",
       "      <th>y</th>\n",
       "      <th>z</th>\n",
       "    </tr>\n",
       "  </thead>\n",
       "  <tbody>\n",
       "    <tr>\n",
       "      <th>1</th>\n",
       "      <td>326</td>\n",
       "      <td>0.21</td>\n",
       "      <td>3.89</td>\n",
       "      <td>3.84</td>\n",
       "      <td>2.31</td>\n",
       "    </tr>\n",
       "    <tr>\n",
       "      <th>3</th>\n",
       "      <td>334</td>\n",
       "      <td>0.29</td>\n",
       "      <td>4.20</td>\n",
       "      <td>4.23</td>\n",
       "      <td>2.63</td>\n",
       "    </tr>\n",
       "    <tr>\n",
       "      <th>12</th>\n",
       "      <td>342</td>\n",
       "      <td>0.22</td>\n",
       "      <td>3.88</td>\n",
       "      <td>3.84</td>\n",
       "      <td>2.33</td>\n",
       "    </tr>\n",
       "    <tr>\n",
       "      <th>14</th>\n",
       "      <td>345</td>\n",
       "      <td>0.20</td>\n",
       "      <td>3.79</td>\n",
       "      <td>3.75</td>\n",
       "      <td>2.27</td>\n",
       "    </tr>\n",
       "    <tr>\n",
       "      <th>15</th>\n",
       "      <td>345</td>\n",
       "      <td>0.32</td>\n",
       "      <td>4.38</td>\n",
       "      <td>4.42</td>\n",
       "      <td>2.68</td>\n",
       "    </tr>\n",
       "    <tr>\n",
       "      <th>...</th>\n",
       "      <td>...</td>\n",
       "      <td>...</td>\n",
       "      <td>...</td>\n",
       "      <td>...</td>\n",
       "      <td>...</td>\n",
       "    </tr>\n",
       "    <tr>\n",
       "      <th>944</th>\n",
       "      <td>394</td>\n",
       "      <td>0.30</td>\n",
       "      <td>4.27</td>\n",
       "      <td>4.31</td>\n",
       "      <td>2.68</td>\n",
       "    </tr>\n",
       "    <tr>\n",
       "      <th>952</th>\n",
       "      <td>394</td>\n",
       "      <td>0.30</td>\n",
       "      <td>4.25</td>\n",
       "      <td>4.29</td>\n",
       "      <td>2.66</td>\n",
       "    </tr>\n",
       "    <tr>\n",
       "      <th>953</th>\n",
       "      <td>394</td>\n",
       "      <td>0.30</td>\n",
       "      <td>4.27</td>\n",
       "      <td>4.32</td>\n",
       "      <td>2.69</td>\n",
       "    </tr>\n",
       "    <tr>\n",
       "      <th>971</th>\n",
       "      <td>397</td>\n",
       "      <td>0.27</td>\n",
       "      <td>4.11</td>\n",
       "      <td>4.13</td>\n",
       "      <td>2.57</td>\n",
       "    </tr>\n",
       "    <tr>\n",
       "      <th>980</th>\n",
       "      <td>400</td>\n",
       "      <td>0.23</td>\n",
       "      <td>3.91</td>\n",
       "      <td>3.95</td>\n",
       "      <td>2.43</td>\n",
       "    </tr>\n",
       "  </tbody>\n",
       "</table>\n",
       "<p>125 rows × 5 columns</p>\n",
       "</div>"
      ],
      "text/plain": [
       "     price  carat     x     y     z\n",
       "1      326   0.21  3.89  3.84  2.31\n",
       "3      334   0.29  4.20  4.23  2.63\n",
       "12     342   0.22  3.88  3.84  2.33\n",
       "14     345   0.20  3.79  3.75  2.27\n",
       "15     345   0.32  4.38  4.42  2.68\n",
       "..     ...    ...   ...   ...   ...\n",
       "944    394   0.30  4.27  4.31  2.68\n",
       "952    394   0.30  4.25  4.29  2.66\n",
       "953    394   0.30  4.27  4.32  2.69\n",
       "971    397   0.27  4.11  4.13  2.57\n",
       "980    400   0.23  3.91  3.95  2.43\n",
       "\n",
       "[125 rows x 5 columns]"
      ]
     },
     "execution_count": 7,
     "metadata": {},
     "output_type": "execute_result"
    }
   ],
   "source": [
    "data1"
   ]
  },
  {
   "cell_type": "code",
   "execution_count": 8,
   "metadata": {
    "colab": {
     "base_uri": "https://localhost:8080/",
     "height": 424
    },
    "id": "jz3qnOaCZMfZ",
    "outputId": "4037419b-0523-42f0-83cd-d3f4bdd46542"
   },
   "outputs": [
    {
     "data": {
      "text/html": [
       "<div>\n",
       "<style scoped>\n",
       "    .dataframe tbody tr th:only-of-type {\n",
       "        vertical-align: middle;\n",
       "    }\n",
       "\n",
       "    .dataframe tbody tr th {\n",
       "        vertical-align: top;\n",
       "    }\n",
       "\n",
       "    .dataframe thead th {\n",
       "        text-align: right;\n",
       "    }\n",
       "</style>\n",
       "<table border=\"1\" class=\"dataframe\">\n",
       "  <thead>\n",
       "    <tr style=\"text-align: right;\">\n",
       "      <th></th>\n",
       "      <th>price</th>\n",
       "      <th>carat</th>\n",
       "      <th>x</th>\n",
       "      <th>y</th>\n",
       "      <th>z</th>\n",
       "    </tr>\n",
       "  </thead>\n",
       "  <tbody>\n",
       "    <tr>\n",
       "      <th>1</th>\n",
       "      <td>-2.748511</td>\n",
       "      <td>-1.708368</td>\n",
       "      <td>-1.573886</td>\n",
       "      <td>-1.710757</td>\n",
       "      <td>-1.869035</td>\n",
       "    </tr>\n",
       "    <tr>\n",
       "      <th>3</th>\n",
       "      <td>-2.496862</td>\n",
       "      <td>-0.015238</td>\n",
       "      <td>-0.206440</td>\n",
       "      <td>-0.128526</td>\n",
       "      <td>0.176421</td>\n",
       "    </tr>\n",
       "    <tr>\n",
       "      <th>12</th>\n",
       "      <td>-2.245213</td>\n",
       "      <td>-1.496726</td>\n",
       "      <td>-1.617997</td>\n",
       "      <td>-1.710757</td>\n",
       "      <td>-1.741194</td>\n",
       "    </tr>\n",
       "    <tr>\n",
       "      <th>14</th>\n",
       "      <td>-2.150844</td>\n",
       "      <td>-1.920009</td>\n",
       "      <td>-2.014998</td>\n",
       "      <td>-2.075887</td>\n",
       "      <td>-2.124717</td>\n",
       "    </tr>\n",
       "    <tr>\n",
       "      <th>15</th>\n",
       "      <td>-2.150844</td>\n",
       "      <td>0.619685</td>\n",
       "      <td>0.587561</td>\n",
       "      <td>0.642305</td>\n",
       "      <td>0.496023</td>\n",
       "    </tr>\n",
       "    <tr>\n",
       "      <th>...</th>\n",
       "      <td>...</td>\n",
       "      <td>...</td>\n",
       "      <td>...</td>\n",
       "      <td>...</td>\n",
       "      <td>...</td>\n",
       "    </tr>\n",
       "    <tr>\n",
       "      <th>944</th>\n",
       "      <td>-0.609494</td>\n",
       "      <td>0.196403</td>\n",
       "      <td>0.102338</td>\n",
       "      <td>0.196034</td>\n",
       "      <td>0.496023</td>\n",
       "    </tr>\n",
       "    <tr>\n",
       "      <th>952</th>\n",
       "      <td>-0.609494</td>\n",
       "      <td>0.196403</td>\n",
       "      <td>0.014116</td>\n",
       "      <td>0.114894</td>\n",
       "      <td>0.368182</td>\n",
       "    </tr>\n",
       "    <tr>\n",
       "      <th>953</th>\n",
       "      <td>-0.609494</td>\n",
       "      <td>0.196403</td>\n",
       "      <td>0.102338</td>\n",
       "      <td>0.236604</td>\n",
       "      <td>0.559943</td>\n",
       "    </tr>\n",
       "    <tr>\n",
       "      <th>971</th>\n",
       "      <td>-0.515126</td>\n",
       "      <td>-0.438521</td>\n",
       "      <td>-0.603441</td>\n",
       "      <td>-0.534226</td>\n",
       "      <td>-0.207102</td>\n",
       "    </tr>\n",
       "    <tr>\n",
       "      <th>980</th>\n",
       "      <td>-0.420757</td>\n",
       "      <td>-1.285085</td>\n",
       "      <td>-1.485664</td>\n",
       "      <td>-1.264487</td>\n",
       "      <td>-1.101989</td>\n",
       "    </tr>\n",
       "  </tbody>\n",
       "</table>\n",
       "<p>125 rows × 5 columns</p>\n",
       "</div>"
      ],
      "text/plain": [
       "        price     carat         x         y         z\n",
       "1   -2.748511 -1.708368 -1.573886 -1.710757 -1.869035\n",
       "3   -2.496862 -0.015238 -0.206440 -0.128526  0.176421\n",
       "12  -2.245213 -1.496726 -1.617997 -1.710757 -1.741194\n",
       "14  -2.150844 -1.920009 -2.014998 -2.075887 -2.124717\n",
       "15  -2.150844  0.619685  0.587561  0.642305  0.496023\n",
       "..        ...       ...       ...       ...       ...\n",
       "944 -0.609494  0.196403  0.102338  0.196034  0.496023\n",
       "952 -0.609494  0.196403  0.014116  0.114894  0.368182\n",
       "953 -0.609494  0.196403  0.102338  0.236604  0.559943\n",
       "971 -0.515126 -0.438521 -0.603441 -0.534226 -0.207102\n",
       "980 -0.420757 -1.285085 -1.485664 -1.264487 -1.101989\n",
       "\n",
       "[125 rows x 5 columns]"
      ]
     },
     "execution_count": 8,
     "metadata": {},
     "output_type": "execute_result"
    }
   ],
   "source": [
    "norm_data = (data1[numeric] - data1[numeric].mean()) / data1[numeric].std()\n",
    "norm_data"
   ]
  },
  {
   "cell_type": "code",
   "execution_count": 9,
   "metadata": {
    "id": "o3uCdYpKZ93y"
   },
   "outputs": [],
   "source": [
    "z, mu, c = np.linalg.svd(norm_data, full_matrices = False)"
   ]
  },
  {
   "cell_type": "code",
   "execution_count": 10,
   "metadata": {
    "colab": {
     "base_uri": "https://localhost:8080/"
    },
    "id": "gl2_ox6IadWe",
    "outputId": "37a52371-6ed0-4d2f-88bd-c3141c723c2a"
   },
   "outputs": [
    {
     "data": {
      "text/plain": [
       "array([22.96890837,  9.07978726,  2.82403824,  1.11657141,  0.87452146])"
      ]
     },
     "execution_count": 10,
     "metadata": {},
     "output_type": "execute_result"
    }
   ],
   "source": [
    "mu"
   ]
  },
  {
   "cell_type": "code",
   "execution_count": 11,
   "metadata": {
    "id": "lHz63c3vb3b3"
   },
   "outputs": [],
   "source": [
    "c = -c\n",
    "z = -z \n",
    "z1 = np.sqrt(mu[0]) * z[:, 0]\n",
    "z2 = np.sqrt(mu[1]) * z[:, 1]"
   ]
  },
  {
   "cell_type": "code",
   "execution_count": 12,
   "metadata": {
    "colab": {
     "base_uri": "https://localhost:8080/"
    },
    "id": "_w2jooZQj7vf",
    "outputId": "28159bc0-c4fe-4ad4-a1ba-844c2f766360"
   },
   "outputs": [
    {
     "data": {
      "text/plain": [
       "array([[-0.30660768, -0.47815043, -0.47744826, -0.47886672, -0.46914147],\n",
       "       [ 0.94980548, -0.17107227, -0.11724042, -0.12873767, -0.19566584],\n",
       "       [-0.0612674 , -0.11481297,  0.52970722,  0.36492858, -0.75452083],\n",
       "       [-0.00952689, -0.79851413, -0.02649433,  0.49412661,  0.34266801],\n",
       "       [ 0.00410093,  0.30215825, -0.69065633,  0.61382351, -0.23430346]])"
      ]
     },
     "execution_count": 12,
     "metadata": {},
     "output_type": "execute_result"
    }
   ],
   "source": [
    "c"
   ]
  },
  {
   "cell_type": "code",
   "execution_count": 13,
   "metadata": {
    "colab": {
     "base_uri": "https://localhost:8080/"
    },
    "id": "JzRnFtrsbWdl",
    "outputId": "4cc882a0-1b84-49dc-946c-aa5777e61df0"
   },
   "outputs": [
    {
     "data": {
      "text/plain": [
       "array([[-0.30660768, -0.47815043, -0.47744826, -0.47886672, -0.46914147],\n",
       "       [ 0.94980548, -0.17107227, -0.11724042, -0.12873767, -0.19566584]])"
      ]
     },
     "execution_count": 13,
     "metadata": {},
     "output_type": "execute_result"
    }
   ],
   "source": [
    "c[:2]"
   ]
  },
  {
   "cell_type": "code",
   "execution_count": 14,
   "metadata": {
    "id": "12IsmmUpbOrT"
   },
   "outputs": [],
   "source": [
    "import matplotlib.pyplot as plt"
   ]
  },
  {
   "cell_type": "code",
   "execution_count": 15,
   "metadata": {
    "colab": {
     "base_uri": "https://localhost:8080/",
     "height": 282
    },
    "id": "1lFXHq6hbb6a",
    "outputId": "5942e491-5ecb-49bb-ba73-1484ab32cbde"
   },
   "outputs": [
    {
     "data": {
      "text/plain": [
       "<matplotlib.collections.PathCollection at 0x7f77cc2003d0>"
      ]
     },
     "execution_count": 15,
     "metadata": {},
     "output_type": "execute_result"
    },
    {
     "data": {
      "image/png": "[encoded data removed]",
      "text/plain": [
       "<Figure size 432x288 with 1 Axes>"
      ]
     },
     "metadata": {
      "needs_background": "light"
     },
     "output_type": "display_data"
    }
   ],
   "source": [
    "plt.scatter(z1, z2)"
   ]
  },
  {
   "cell_type": "code",
   "execution_count": 18,
   "metadata": {},
   "outputs": [
    {
     "data": {
      "text/plain": [
       "<matplotlib.collections.PathCollection at 0x7f77cc586880>"
      ]
     },
     "execution_count": 18,
     "metadata": {},
     "output_type": "execute_result"
    },
    {
     "data": {
      "image/png": "[encoded data removed]",
      "text/plain": [
       "<Figure size 432x288 with 1 Axes>"
      ]
     },
     "metadata": {
      "needs_background": "light"
     },
     "output_type": "display_data"
    }
   ],
   "source": [
    "mask = norm_data['carat'] > 0.7\n",
    "plt.scatter(z1, z2, alpha=0.4, color='g')\n",
    "plt.scatter(z1[mask], z2[mask], alpha=1, color='b', marker='d')"
   ]
  },
  {
   "cell_type": "code",
   "execution_count": 19,
   "metadata": {
    "id": "_N6nMbwtdzKe"
   },
   "outputs": [],
   "source": [
    "from numpy.linalg import eig"
   ]
  },
  {
   "cell_type": "code",
   "execution_count": 20,
   "metadata": {
    "colab": {
     "base_uri": "https://localhost:8080/"
    },
    "id": "HpSdDi-ZdzXp",
    "outputId": "c2e69ba9-9d75-4c73-a170-92b260d15998"
   },
   "outputs": [
    {
     "data": {
      "text/plain": [
       "array([[1.        , 0.51625098, 0.54669033, 0.54191278, 0.49136621],\n",
       "       [0.51625098, 1.        , 0.97964105, 0.98330238, 0.97903204],\n",
       "       [0.54669033, 0.97964105, 1.        , 0.99246839, 0.94344489],\n",
       "       [0.54191278, 0.98330238, 0.99246839, 1.        , 0.95567676],\n",
       "       [0.49136621, 0.97903204, 0.94344489, 0.95567676, 1.        ]])"
      ]
     },
     "execution_count": 20,
     "metadata": {},
     "output_type": "execute_result"
    }
   ],
   "source": [
    "cov = np.dot(norm_data.T, norm_data) / (norm_data.shape[0]-1)\n",
    "cov"
   ]
  },
  {
   "cell_type": "code",
   "execution_count": 21,
   "metadata": {
    "id": "tVKUmPbJgGBN"
   },
   "outputs": [],
   "source": [
    "eig_val, eig_vec = eig(cov)"
   ]
  },
  {
   "cell_type": "code",
   "execution_count": 22,
   "metadata": {
    "colab": {
     "base_uri": "https://localhost:8080/"
    },
    "id": "uV-JS5yRgXyo",
    "outputId": "169970e6-3037-45d4-a6a1-94f29ab99dc9"
   },
   "outputs": [
    {
     "data": {
      "text/plain": [
       "array([4.25460284, 0.66485917, 0.06431606, 0.01005429, 0.00616764])"
      ]
     },
     "execution_count": 22,
     "metadata": {},
     "output_type": "execute_result"
    }
   ],
   "source": [
    "eig_val"
   ]
  },
  {
   "cell_type": "code",
   "execution_count": 23,
   "metadata": {
    "colab": {
     "base_uri": "https://localhost:8080/"
    },
    "id": "pVEb92mxgcmR",
    "outputId": "8e8f3516-c9f1-40f4-a704-1a375cdbd7ee"
   },
   "outputs": [
    {
     "data": {
      "text/plain": [
       "array([[-0.30660768, -0.94980548,  0.0612674 , -0.00952689, -0.00410093],\n",
       "       [-0.47815043,  0.17107227,  0.11481297, -0.79851413, -0.30215825],\n",
       "       [-0.47744826,  0.11724042, -0.52970722, -0.02649433,  0.69065633],\n",
       "       [-0.47886672,  0.12873767, -0.36492858,  0.49412661, -0.61382351],\n",
       "       [-0.46914147,  0.19566584,  0.75452083,  0.34266801,  0.23430346]])"
      ]
     },
     "execution_count": 23,
     "metadata": {},
     "output_type": "execute_result"
    }
   ],
   "source": [
    "eig_vec"
   ]
  },
  {
   "cell_type": "code",
   "execution_count": 24,
   "metadata": {
    "colab": {
     "base_uri": "https://localhost:8080/"
    },
    "id": "OYh57zx9hOrw",
    "outputId": "82237a92-935e-492f-87f9-300698d89e1a"
   },
   "outputs": [
    {
     "data": {
      "text/plain": [
       "array([-0.30660768, -0.47815043, -0.47744826, -0.47886672, -0.46914147])"
      ]
     },
     "execution_count": 24,
     "metadata": {},
     "output_type": "execute_result"
    }
   ],
   "source": [
    "eig_vec[:, 0]"
   ]
  },
  {
   "cell_type": "code",
   "execution_count": 25,
   "metadata": {
    "colab": {
     "base_uri": "https://localhost:8080/"
    },
    "id": "MaQYLFT2jd1f",
    "outputId": "0ad97a57-e4da-46fe-bf1b-1d44e4e17afc"
   },
   "outputs": [
    {
     "data": {
      "text/plain": [
       "array([-0.94980548,  0.17107227,  0.11724042,  0.12873767,  0.19566584])"
      ]
     },
     "execution_count": 25,
     "metadata": {},
     "output_type": "execute_result"
    }
   ],
   "source": [
    "eig_vec[:, 1]\n"
   ]
  },
  {
   "cell_type": "code",
   "execution_count": 26,
   "metadata": {
    "id": "Ugn9Q_7QgOol"
   },
   "outputs": [],
   "source": [
    "z1_ = np.dot(norm_data, eig_vec[:, 0]) /np.sqrt(norm_data.shape[0] * eig_val[0])"
   ]
  },
  {
   "cell_type": "code",
   "execution_count": 27,
   "metadata": {
    "id": "eMz31iOThyZg"
   },
   "outputs": [],
   "source": [
    "cov = cov - eig_val[0] * eig_vec[:, 0].reshape((5, 1)) * eig_vec[:, 0]"
   ]
  },
  {
   "cell_type": "code",
   "execution_count": 28,
   "metadata": {
    "id": "1yLfSdWEiUea"
   },
   "outputs": [],
   "source": [
    "eig_val, eig_vec = eig(cov)"
   ]
  },
  {
   "cell_type": "code",
   "execution_count": 29,
   "metadata": {
    "id": "fY6bhwD3g9Ft"
   },
   "outputs": [],
   "source": [
    "z2_ = np.dot(norm_data, -eig_vec[:, 0]) /np.sqrt(norm_data.shape[0] * eig_val[0])"
   ]
  },
  {
   "cell_type": "code",
   "execution_count": 30,
   "metadata": {
    "colab": {
     "base_uri": "https://localhost:8080/",
     "height": 286
    },
    "id": "JLm6c0jnii2x",
    "outputId": "8b5ed1b7-1d7e-4c83-99cb-333b76038964"
   },
   "outputs": [
    {
     "data": {
      "text/plain": [
       "(-0.4, 1.0)"
      ]
     },
     "execution_count": 30,
     "metadata": {},
     "output_type": "execute_result"
    },
    {
     "data": {
      "image/png": "[encoded data removed]",
      "text/plain": [
       "<Figure size 432x288 with 1 Axes>"
      ]
     },
     "metadata": {
      "needs_background": "light"
     },
     "output_type": "display_data"
    }
   ],
   "source": [
    "plt.scatter(z1_, z2_, alpha=0.4, color='g')\n",
    "plt.scatter(z1_[mask], z2_[mask], alpha=1, color='b', marker='d')\n",
    "plt.xlim(-1.0, 0.4)\n",
    "plt.ylim(-0.4, 1.0)"
   ]
  },
  {
   "cell_type": "code",
   "execution_count": 31,
   "metadata": {
    "colab": {
     "base_uri": "https://localhost:8080/",
     "height": 282
    },
    "id": "h1syCPMscyU7",
    "outputId": "93440357-505a-4080-8ae0-8597f303e7ac"
   },
   "outputs": [
    {
     "data": {
      "text/plain": [
       "<matplotlib.collections.PathCollection at 0x7f77cc78d430>"
      ]
     },
     "execution_count": 31,
     "metadata": {},
     "output_type": "execute_result"
    },
    {
     "data": {
      "image/png": "[encoded data removed]",
      "text/plain": [
       "<Figure size 432x288 with 1 Axes>"
      ]
     },
     "metadata": {
      "needs_background": "light"
     },
     "output_type": "display_data"
    }
   ],
   "source": [
    "mask = norm_data['carat'] > 1.3\n",
    "plt.scatter(z1, z2, alpha=0.4, color='g')\n",
    "plt.scatter(z1[mask], z2[mask], alpha=1, color='b', marker='d')"
   ]
  },
  {
   "cell_type": "code",
   "execution_count": null,
   "metadata": {},
   "outputs": [],
   "source": []
  }
 ],
 "metadata": {
  "colab": {
   "provenance": []
  },
  "kernelspec": {
   "display_name": "Python 3 (ipykernel)",
   "language": "python",
   "name": "python3"
  },
  "language_info": {
   "codemirror_mode": {
    "name": "ipython",
    "version": 3
   },
   "file_extension": ".py",
   "mimetype": "text/x-python",
   "name": "python",
   "nbconvert_exporter": "python",
   "pygments_lexer": "ipython3",
   "version": "3.9.12"
  }
 },
 "nbformat": 4,
 "nbformat_minor": 1
}
