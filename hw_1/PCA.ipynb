{
 "cells": [
  {
   "cell_type": "markdown",
   "metadata": {
    "id": "d4by3jKdXHLQ"
   },
   "source": [
    "# Домашнее задание 1\n",
    "## Бурмашев Григорий, Прокопова Полина, БПМИ-208"
   ]
  },
  {
   "cell_type": "code",
   "execution_count": 1,
   "metadata": {},
   "outputs": [],
   "source": [
    "import numpy as np\n",
    "import pandas as pd\n",
    "import matplotlib.pyplot as plt\n",
    "from numpy.linalg import eig"
   ]
  },
  {
   "cell_type": "code",
   "execution_count": 2,
   "metadata": {
    "colab": {
     "base_uri": "https://localhost:8080/",
     "height": 424
    },
    "id": "k8kGKCQHYBED",
    "outputId": "23258939-8012-496a-a7f1-43782218257f"
   },
   "outputs": [],
   "source": [
    "df = pd.read_csv('diamonds_1000.csv') "
   ]
  },
  {
   "cell_type": "code",
   "execution_count": 3,
   "metadata": {
    "id": "F4Ry6SVOZFEZ"
   },
   "outputs": [],
   "source": [
    "numeric = ['price', 'carat', 'x', 'y', 'z']\n",
    "df1 = df[numeric]"
   ]
  },
  {
   "cell_type": "markdown",
   "metadata": {},
   "source": [
    "### Z-scoring"
   ]
  },
  {
   "cell_type": "code",
   "execution_count": 4,
   "metadata": {},
   "outputs": [],
   "source": [
    "Xz = (df1 - df1.mean()) / df1.std()"
   ]
  },
  {
   "cell_type": "code",
   "execution_count": 5,
   "metadata": {},
   "outputs": [
    {
     "data": {
      "image/png": "[encoded data removed]",
      "text/plain": [
       "<Figure size 432x288 with 1 Axes>"
      ]
     },
     "metadata": {
      "needs_background": "light"
     },
     "output_type": "display_data"
    }
   ],
   "source": [
    "plt.hist(Xz['carat'])\n",
    "plt.show()"
   ]
  },
  {
   "cell_type": "code",
   "execution_count": 6,
   "metadata": {
    "id": "o3uCdYpKZ93y"
   },
   "outputs": [],
   "source": [
    "z, mu, c = np.linalg.svd(Xz, full_matrices = False)\n",
    "\n",
    "c = -c\n",
    "z = -z \n",
    "z1 = np.sqrt(mu[0]) * z[:, 0]\n",
    "z2 = np.sqrt(mu[1]) * z[:, 1]"
   ]
  },
  {
   "cell_type": "code",
   "execution_count": null,
   "metadata": {},
   "outputs": [],
   "source": [
    "plt.scatter(z1, z2)"
   ]
  },
  {
   "cell_type": "code",
   "execution_count": null,
   "metadata": {
    "scrolled": true
   },
   "outputs": [],
   "source": [
    "maskZ = Xz['carat'] > Xz['carat'].mean()\n",
    "\n",
    "plt.figure(figsize=(10, 5))\n",
    "plt.scatter(z1, z2, alpha=0.4, color='g')\n",
    "plt.scatter(z1[maskZ], z2[maskZ], alpha=1, color='b', marker='d')\n",
    "plt.title('Визуализация путем Z-scoring')\n",
    "plt.show()"
   ]
  },
  {
   "cell_type": "markdown",
   "metadata": {},
   "source": [
    "### Нормирование с размахом"
   ]
  },
  {
   "cell_type": "code",
   "execution_count": null,
   "metadata": {},
   "outputs": [],
   "source": [
    "Xr = (df1 - df1.mean()) / (df1.max() - df1.min())"
   ]
  },
  {
   "cell_type": "code",
   "execution_count": null,
   "metadata": {},
   "outputs": [],
   "source": [
    "plt.hist(Xr['carat'])\n",
    "plt.show()"
   ]
  },
  {
   "cell_type": "code",
   "execution_count": null,
   "metadata": {},
   "outputs": [],
   "source": [
    "z_R, mu_R, c_R = np.linalg.svd(Xr, full_matrices = False)\n",
    "\n",
    "c_R = -c_R\n",
    "z_R = -z_R \n",
    "z_R1 = np.sqrt(mu_R[0]) * z_R[:, 0]\n",
    "z_R2 = np.sqrt(mu_R[1]) * z_R[:, 1]"
   ]
  },
  {
   "cell_type": "code",
   "execution_count": null,
   "metadata": {},
   "outputs": [],
   "source": [
    "plt.scatter(z_R1, z_R2)"
   ]
  },
  {
   "cell_type": "code",
   "execution_count": null,
   "metadata": {},
   "outputs": [],
   "source": [
    "maskR = Xr['carat'] > Xr['carat'].mean()\n",
    "\n",
    "plt.figure(figsize=(10, 5))\n",
    "plt.scatter(z_R1, z_R2, alpha=0.4, color='g')\n",
    "plt.scatter(z_R1[maskR], z_R2[maskR], alpha=1, color='b', marker='d')\n",
    "plt.title('Визуализация путем стандартизации размахом')\n",
    "plt.show()"
   ]
  },
  {
   "cell_type": "markdown",
   "metadata": {},
   "source": [
    "### PCA "
   ]
  },
  {
   "cell_type": "markdown",
   "metadata": {},
   "source": [
    "#### Z score"
   ]
  },
  {
   "cell_type": "code",
   "execution_count": null,
   "metadata": {
    "colab": {
     "base_uri": "https://localhost:8080/"
    },
    "id": "HpSdDi-ZdzXp",
    "outputId": "c2e69ba9-9d75-4c73-a170-92b260d15998"
   },
   "outputs": [],
   "source": [
    "cov = np.dot(Xz.T, Xz) / (Xz.shape[0]-1)\n",
    "eig_val, eig_vec = eig(cov)"
   ]
  },
  {
   "cell_type": "code",
   "execution_count": null,
   "metadata": {
    "id": "Ugn9Q_7QgOol"
   },
   "outputs": [],
   "source": [
    "z1_ = np.dot(Xz, eig_vec[:, 0]) / np.sqrt(Xz.shape[0] * eig_val[0])\n",
    "cov = cov - eig_val[0] * eig_vec[:, 0].reshape((5, 1)) * eig_vec[:, 0]\n",
    "eig_val, eig_vec = eig(cov)\n",
    "z2_ = np.dot(Xz, -eig_vec[:, 0]) / np.sqrt(Xz.shape[0] * eig_val[0])"
   ]
  },
  {
   "cell_type": "code",
   "execution_count": null,
   "metadata": {},
   "outputs": [],
   "source": [
    "plt.figure(figsize=(10, 5))\n",
    "plt.title('Метод главных компонент, Z score')\n",
    "plt.scatter(-z1_, -z2_, alpha=0.4, color='g')\n",
    "plt.scatter(-z1_[maskZ], -z2_[maskZ], alpha=1, color='b', marker='d')\n",
    "plt.xlim(-0.10, 0.10)\n",
    "plt.ylim(-0.08, 0.15)\n",
    "plt.show()"
   ]
  },
  {
   "cell_type": "code",
   "execution_count": null,
   "metadata": {},
   "outputs": [],
   "source": [
    "plt.figure(figsize=(10, 5))\n",
    "plt.title('Визуализация путем Z-scoring')\n",
    "plt.scatter(z1, z2, alpha=0.4, color='g')\n",
    "plt.scatter(z1[maskZ], z2[maskZ], alpha=1, color='b', marker='d')\n",
    "plt.show()"
   ]
  },
  {
   "cell_type": "markdown",
   "metadata": {},
   "source": [
    "#### Размах"
   ]
  },
  {
   "cell_type": "code",
   "execution_count": null,
   "metadata": {},
   "outputs": [],
   "source": [
    "cov = np.dot(Xr.T, Xr) / (Xr.shape[0]-1)\n",
    "eig_val, eig_vec = eig(cov)"
   ]
  },
  {
   "cell_type": "code",
   "execution_count": null,
   "metadata": {},
   "outputs": [],
   "source": [
    "z1_ = np.dot(Xr, eig_vec[:, 0]) / np.sqrt(Xr.shape[0] * eig_val[0])\n",
    "cov = cov - eig_val[0] * eig_vec[:, 0].reshape((5, 1)) * eig_vec[:, 0]\n",
    "eig_val, eig_vec = eig(cov)\n",
    "z2_ = np.dot(Xr, -eig_vec[:, 0]) / np.sqrt(Xr.shape[0] * eig_val[0])"
   ]
  },
  {
   "cell_type": "code",
   "execution_count": null,
   "metadata": {},
   "outputs": [],
   "source": [
    "plt.figure(figsize=(10, 5))\n",
    "plt.title('Метод главных компонент, Размах')\n",
    "plt.scatter(z1_, -z2_, alpha=0.4, color='g')\n",
    "plt.scatter(z1_[maskR], -z2_[maskR], alpha=1, color='b', marker='d')\n",
    "plt.xlim(-0.10, 0.10)\n",
    "plt.ylim(-0.10, 0.12)\n",
    "plt.show()"
   ]
  },
  {
   "cell_type": "code",
   "execution_count": null,
   "metadata": {},
   "outputs": [],
   "source": [
    "plt.figure(figsize=(10, 5))\n",
    "plt.title('Визуализация путем стандартизации размахом') \n",
    "plt.scatter(z_R1, z_R2, alpha=0.4, color='g')\n",
    "plt.scatter(z_R1[maskR], z_R2[maskR], alpha=1, color='b', marker='d')\n",
    "plt.show()"
   ]
  }
 ],
 "metadata": {
  "colab": {
   "provenance": []
  },
  "kernelspec": {
   "display_name": "Python 3 (ipykernel)",
   "language": "python",
   "name": "python3"
  },
  "language_info": {
   "codemirror_mode": {
    "name": "ipython",
    "version": 3
   },
   "file_extension": ".py",
   "mimetype": "text/x-python",
   "name": "python",
   "nbconvert_exporter": "python",
   "pygments_lexer": "ipython3",
   "version": "3.9.12"
  }
 },
 "nbformat": 4,
 "nbformat_minor": 1
}
